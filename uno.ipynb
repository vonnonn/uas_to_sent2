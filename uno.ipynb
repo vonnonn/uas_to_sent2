{
 "cells": [
  {
   "cell_type": "markdown",
   "metadata": {},
   "source": [
    "This script should start after the user has plotted the UAS ortho in QGIS, visually identified field plot centers (saved as shapefile), and cropped the largest rectangle possible from UAS ortho"
   ]
  },
  {
   "cell_type": "markdown",
   "metadata": {},
   "source": [
    "Conda Environment: python 3.8, Windows 10\n",
    "\n",
    "conda install -c conda-forge geopandas matplotlib mpld3 scipy rasterio "
   ]
  },
  {
   "cell_type": "code",
   "execution_count": 32,
   "metadata": {},
   "outputs": [],
   "source": [
    "import geopandas as gpd\n",
    "#import pandas as pd\n",
    "import numpy as np\n",
    "from scipy import spatial\n",
    "import rasterio as rio\n",
    "import rasterio.mask\n",
    "from shapely import geometry\n",
    "from rasterio import MemoryFile"
   ]
  },
  {
   "cell_type": "code",
   "execution_count": 33,
   "metadata": {},
   "outputs": [],
   "source": [
    "#file paths to UAS rectangle clip and field point centers\n",
    "\n",
    "fp_uas = r\"E:\\USGS\\Sonoma_fires\\GLA3\\GLA3_2021_ortho_clip_32610.tif\"\n",
    "fp_pts = r\"E:\\USGS\\Sonoma_fires\\GLA3\\GLA3_2021_ctrs_32610.gpkg\""
   ]
  },
  {
   "cell_type": "code",
   "execution_count": 34,
   "metadata": {},
   "outputs": [],
   "source": [
    "gdf = gpd.read_file(fp_pts)\n",
    "#gdf.crs\n",
    "mask = gdf['buffer'] = gdf.geometry.buffer(0.04) #buffer for masking plot markers"
   ]
  },
  {
   "cell_type": "code",
   "execution_count": 35,
   "metadata": {},
   "outputs": [],
   "source": [
    "with rio.open(fp_uas) as src:\n",
    "    #saving profile for writing out later\n",
    "    profile = src.profile\n",
    "    \n",
    "    #masking the centers of field plots to remove yellow markers\n",
    "    out_image, out_transform = rasterio.mask.mask(src, mask, invert=True, filled=False)\n",
    "\n",
    "    #creating a new extent rounded to nearest 10m for aligning with Sent2 resolution\n",
    "    #new_bb = [round(num,-1) for num in src.bounds]\n",
    "\n",
    "#set masked pixels to np.nan  (for interpolation)\n",
    "masked = np.where(out_image.mask, np.nan, out_image)\n",
    "\n",
    "#the UAS ortho contains a 4th band we are not going to use\n",
    "rgb = masked[:3]"
   ]
  },
  {
   "cell_type": "code",
   "execution_count": 36,
   "metadata": {},
   "outputs": [],
   "source": [
    "#IDW interpolator\n",
    "#should investigate faster interpolators for this small of an area\n",
    "\n",
    "def idw(data):\n",
    "    valid = np.argwhere(~np.isnan(data))\n",
    "    tree = spatial.cKDTree(valid)\n",
    "    \n",
    "    nans = np.argwhere(np.isnan(data))    \n",
    "    for row in nans:\n",
    "        d, idx = tree.query(row, k=12) #k = number of nearest neighbors\n",
    "        d = np.power(d, -2) #each item in d raised to its reciprocated power (basis of idw) the value \"r\" also defines the smoothness of the interpolation\n",
    "        v = data[valid[idx, 0], valid[idx, 1]] \n",
    "        data[row[0], row[1]] = np.inner(v, d)/np.sum(d) #nans are replaced with the result of (v * d)/sum(d)\n",
    "        \n",
    "    return data"
   ]
  },
  {
   "cell_type": "code",
   "execution_count": 37,
   "metadata": {},
   "outputs": [],
   "source": [
    "bands = []\n",
    "\n",
    "#function to loop through bands and interpolate\n",
    "def rgb_interp(data):\n",
    "    for r in range(data.shape[0]):\n",
    "        b = idw(data[r])\n",
    "        bands.append(b.astype('uint8'))\n",
    "\n",
    "    return bands"
   ]
  },
  {
   "cell_type": "code",
   "execution_count": 38,
   "metadata": {},
   "outputs": [],
   "source": [
    "data_interp = rgb_interp(rgb)\n",
    "\n",
    "arr = np.asarray(data_interp)"
   ]
  },
  {
   "cell_type": "code",
   "execution_count": 41,
   "metadata": {},
   "outputs": [
    {
     "data": {
      "text/plain": [
       "(3, 12006, 14947)"
      ]
     },
     "execution_count": 41,
     "metadata": {},
     "output_type": "execute_result"
    }
   ],
   "source": [
    "#arr.shape"
   ]
  },
  {
   "cell_type": "code",
   "execution_count": 39,
   "metadata": {},
   "outputs": [],
   "source": [
    "#changing the count to 3 since we dropped the 4th band\n",
    "\n",
    "profile.update(\n",
    "        dtype=rasterio.uint8,\n",
    "        count=3,\n",
    "        compress='lzw')"
   ]
  },
  {
   "cell_type": "code",
   "execution_count": 43,
   "metadata": {},
   "outputs": [],
   "source": [
    "outfile = fp_uas.replace('.tif','_interp.tif')\n",
    "\n",
    "with rio.open(outfile, \"w\", **profile) as dest:\n",
    "    dest.write(arr)"
   ]
  },
  {
   "cell_type": "markdown",
   "metadata": {},
   "source": [
    "code below was for clipping UAS ---- which I prolly won't do until after creating new extent from Sentinel2 imagery first?"
   ]
  },
  {
   "cell_type": "code",
   "execution_count": null,
   "metadata": {},
   "outputs": [],
   "source": []
  },
  {
   "cell_type": "code",
   "execution_count": null,
   "metadata": {},
   "outputs": [],
   "source": []
  },
  {
   "cell_type": "code",
   "execution_count": null,
   "metadata": {},
   "outputs": [],
   "source": [
    "#uas_clip_extent = geometry.Polygon([[new_bb[0]+10,new_bb[3]],\n",
    "#                                    [new_bb[2]-10,new_bb[3]],\n",
    "#                                    [new_bb[2]-10,new_bb[1]+10],\n",
    "#                                    [new_bb[0]+10,new_bb[1]+10]])\n",
    "\n",
    "#Rasterio requires a shapely polygon under the \"geometry\" header\n",
    "#geo = gpd.GeoDataFrame({'geometry':uas_clip_extent},index=[0],crs=\"epsg:26910\") "
   ]
  },
  {
   "cell_type": "code",
   "execution_count": null,
   "metadata": {},
   "outputs": [],
   "source": [
    "with MemoryFile() as memfile:\n",
    "    with memfile.open(**profile) as dataset:\n",
    "        dataset.write(arr)\n",
    " \n",
    "        #print(dataset.profile)\n",
    "        out_image2, out_transform2 = rasterio.mask.mask(dataset, geo.geometry, crop=True)\n",
    "        out_meta = dataset.meta.copy()\n",
    "\n",
    "    out_meta.update({\n",
    "    \"driver\": \"GTiff\",\n",
    "    \"height\": out_image2.shape[1],\n",
    "    \"width\": out_image2.shape[2],\n",
    "    \"transform\": out_transform2\n",
    "    })"
   ]
  },
  {
   "cell_type": "code",
   "execution_count": null,
   "metadata": {},
   "outputs": [],
   "source": [
    "outfile = fp_uas.replace('.tif','_2021_interp_clip_test3.tif')\n",
    "\n",
    "with rio.open(outfile, \"w\", **out_meta) as dest:\n",
    "    dest.write(out_image2)"
   ]
  },
  {
   "cell_type": "code",
   "execution_count": null,
   "metadata": {},
   "outputs": [],
   "source": [
    "test = rio.open(r\"E:\\USGS\\Sonoma_fires\\GLA3\\GLA3_26910_rect_2021_interp_clip_test3.tif\")"
   ]
  },
  {
   "cell_type": "code",
   "execution_count": null,
   "metadata": {},
   "outputs": [],
   "source": [
    "test.bounds"
   ]
  },
  {
   "cell_type": "code",
   "execution_count": null,
   "metadata": {},
   "outputs": [],
   "source": [
    "test.close"
   ]
  }
 ],
 "metadata": {
  "kernelspec": {
   "display_name": "Python 3.8.13 ('g38')",
   "language": "python",
   "name": "python3"
  },
  "language_info": {
   "codemirror_mode": {
    "name": "ipython",
    "version": 3
   },
   "file_extension": ".py",
   "mimetype": "text/x-python",
   "name": "python",
   "nbconvert_exporter": "python",
   "pygments_lexer": "ipython3",
   "version": "3.8.13"
  },
  "orig_nbformat": 4,
  "vscode": {
   "interpreter": {
    "hash": "eed5200c3b2e178a7f65e1878ac46ed34011c51f6fde7c3185243358c10a19b2"
   }
  }
 },
 "nbformat": 4,
 "nbformat_minor": 2
}
