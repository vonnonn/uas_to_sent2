{
 "cells": [
  {
   "cell_type": "code",
   "execution_count": 13,
   "metadata": {},
   "outputs": [],
   "source": [
    "import rasterio as rio\n",
    "import rasterio.mask\n",
    "from rasterio.warp import calculate_default_transform,reproject,Resampling\n",
    "from shapely import geometry\n",
    "import geopandas as gpd\n",
    "from pyproj import Transformer, CRS"
   ]
  },
  {
   "cell_type": "code",
   "execution_count": 2,
   "metadata": {},
   "outputs": [],
   "source": [
    "fp_uas = r\"E:\\USGS\\Sonoma_fires\\GLA3\\GLA3_26910_rect_2021_interp_clip_test3.tif\"\n",
    "fp_sent2 = r'E:\\USGS\\Sent2\\SENT2_L2A_04082021_rgb_32610.tiff'\n"
   ]
  },
  {
   "cell_type": "code",
   "execution_count": 22,
   "metadata": {},
   "outputs": [],
   "source": [
    "with rio.open(fp_uas) as src:\n",
    "    #profile = src.profile\n",
    "    bb = [round(num,0) for num in src.bounds]\n",
    "\n",
    "# transform from 26910 to 32610 for Sent 2 clip \n",
    "\n",
    "#transformer = Transformer.from_crs(\"epsg:26910\", \"epsg:32610\")\n",
    "#minx,miny = transformer.transform(new_bb[0],new_bb[1])\n",
    "#maxx,maxy = transformer.transform(new_bb[2],new_bb[3])\n",
    "\n",
    "#footprint = geometry.Polygon([[minx,maxy],[maxx,maxy],[maxx,miny],[minx,miny]])\n",
    "\n",
    "footprint = geometry.Polygon([[bb[0],bb[3]],[bb[2],bb[3]],[bb[2],bb[1]],[bb[0],bb[1]]])\n",
    "\n",
    "geo = gpd.GeoDataFrame({'geometry':footprint},index=[0],crs=\"epsg:26910\")"
   ]
  },
  {
   "cell_type": "code",
   "execution_count": 14,
   "metadata": {},
   "outputs": [],
   "source": [
    "crs = CRS.from_user_input(26910)"
   ]
  },
  {
   "cell_type": "markdown",
   "metadata": {},
   "source": []
  },
  {
   "cell_type": "code",
   "execution_count": 15,
   "metadata": {},
   "outputs": [],
   "source": [
    "###### need to perform this section in memory\n",
    "\n",
    "\n",
    "#dst_crs = {'init':\"EPSG:26910\"}  #UAS crs\n",
    "dst_crs = crs\n",
    "outfile = fp_sent2.replace('32610.tiff','26910.tiff')\n",
    "\n",
    "with rasterio.open(fp_sent2) as src:\n",
    "    src_transform = src.transform\n",
    "\n",
    "    # calculate the transform matrix for the output\n",
    "    dst_transform, width, height = calculate_default_transform(\n",
    "        src.crs,\n",
    "        dst_crs,\n",
    "        src.width,\n",
    "        src.height,\n",
    "        *src.bounds,  # unpacks outer boundaries (left, bottom, right, top)\n",
    "    )\n",
    "\n",
    "    # set properties for output\n",
    "    dst_kwargs = src.meta.copy()\n",
    "    dst_kwargs.update(\n",
    "        {\n",
    "            \"crs\": dst_crs,\n",
    "            \"transform\": dst_transform,\n",
    "            \"width\": width,\n",
    "            \"height\": height,\n",
    "            \"nodata\": 0,  # replace 0 with np.nan\n",
    "        }\n",
    "    )\n",
    "\n",
    "    with rasterio.open(outfile, \"w\", **dst_kwargs) as dst:\n",
    "        # iterate through bands\n",
    "        for i in range(1, src.count + 1):\n",
    "            reproject(\n",
    "                source=rasterio.band(src, i),\n",
    "                destination=rasterio.band(dst, i),\n",
    "                src_transform=src.transform,\n",
    "                src_crs=src.crs,\n",
    "                dst_transform=dst_transform,\n",
    "                dst_crs=dst_crs,\n",
    "                resampling=Resampling.nearest,\n",
    "            )"
   ]
  },
  {
   "cell_type": "code",
   "execution_count": 23,
   "metadata": {},
   "outputs": [],
   "source": [
    "\n",
    "outfile2 = outfile.replace('.tif','clipped.tif')\n",
    "\n",
    "with rio.open(outfile) as src:\n",
    "    out_image, out_transform = rasterio.mask.mask(src, geo.geometry, crop=True)\n",
    "    out_meta = src.meta.copy()\n",
    "\n",
    "out_meta.update({\n",
    "    \"driver\": \"GTiff\",\n",
    "    \"height\": out_image.shape[1],\n",
    "    \"width\": out_image.shape[2],\n",
    "    \"transform\": out_transform\n",
    "})\n",
    "\n",
    "with rio.open(outfile2, \"w\", **out_meta) as dest:\n",
    "    dest.write(out_image)"
   ]
  },
  {
   "cell_type": "code",
   "execution_count": null,
   "metadata": {},
   "outputs": [],
   "source": []
  }
 ],
 "metadata": {
  "kernelspec": {
   "display_name": "Python 3.8.13 ('g38')",
   "language": "python",
   "name": "python3"
  },
  "language_info": {
   "codemirror_mode": {
    "name": "ipython",
    "version": 3
   },
   "file_extension": ".py",
   "mimetype": "text/x-python",
   "name": "python",
   "nbconvert_exporter": "python",
   "pygments_lexer": "ipython3",
   "version": "3.8.13"
  },
  "orig_nbformat": 4,
  "vscode": {
   "interpreter": {
    "hash": "eed5200c3b2e178a7f65e1878ac46ed34011c51f6fde7c3185243358c10a19b2"
   }
  }
 },
 "nbformat": 4,
 "nbformat_minor": 2
}
