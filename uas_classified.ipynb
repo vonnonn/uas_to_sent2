{
 "cells": [
  {
   "cell_type": "code",
   "execution_count": null,
   "metadata": {},
   "outputs": [],
   "source": [
    "import matplotlib.pyplot as plt\n",
    "import numpy as np\n",
    "from scipy import ndimage, signal, spatial, interpolate, misc\n",
    "import rasterio as rio\n",
    "import pandas as pd\n",
    "import geopandas as gpd"
   ]
  },
  {
   "cell_type": "code",
   "execution_count": null,
   "metadata": {},
   "outputs": [],
   "source": [
    "from IPython.core.interactiveshell import InteractiveShell\n",
    "InteractiveShell.ast_node_interactivity = \"all\""
   ]
  },
  {
   "cell_type": "code",
   "execution_count": null,
   "metadata": {},
   "outputs": [],
   "source": [
    "# allows zoom feature\n",
    "%matplotlib inline\n",
    "import mpld3\n",
    "#\n",
    "mpld3.enable_notebook()\n",
    "\n",
    "plt.rcParams[\"figure.figsize\"] = (15,15)"
   ]
  },
  {
   "cell_type": "code",
   "execution_count": null,
   "metadata": {},
   "outputs": [],
   "source": [
    "fp_uas = r\"E:\\USGS\\Sonoma_fires\\GLA3\\GLA3_2021_interp_clip_plt2.tif\""
   ]
  },
  {
   "cell_type": "code",
   "execution_count": null,
   "metadata": {},
   "outputs": [],
   "source": [
    "with rio.open(fp_uas) as src:\n",
    "    profile = src.profile\n",
    "\n",
    "    #stacking rgb in the order of: Blue - Green - Red\n",
    "    rgb = np.dstack([src.read(1).astype('int16'),src.read(2).astype('int16'),src.read(3).astype('int16')])\n",
    "    #rgb = np.dstack([src.read(1),src.read(2),src.read(3)])"
   ]
  },
  {
   "cell_type": "code",
   "execution_count": null,
   "metadata": {},
   "outputs": [],
   "source": [
    "#would masked arrays make more sense here?\n",
    "\n",
    "shad_mask = np.empty_like(rgb)\n",
    "veg_shad_mask = np.empty_like(rgb)\n",
    "\n",
    "#Creating Excess Greeness Index \n",
    "ExG = 2*rgb[:,:,1] - rgb[:,:,2] - rgb[:,:,0]\n",
    "\n",
    "# should try thresholded an eroded red band for the shadowmask - may correct some of the mis-classified pixels around the shadows\n",
    "# especially, the rocks=\n",
    "\n",
    "for bands in range(rgb.shape[2]):\n",
    "    #threshold shadow ---- 70 was a manually expiremented value - should validate with threshold-otsu or jenks\n",
    "    #threshold vegetation --- the threshold value was first obtained by jenkspy.jenks_breaks(Exg.flatten(),nb_class=2)\n",
    "    shad_mask[:,:,bands] = np.where(rgb[:,:,2] < 68, np.nan, rgb[:,:,bands]) #70\n",
    "    veg_shad_mask[:,:,bands] = np.where(ExG>12, np.nan, shad_mask[:,:,bands])"
   ]
  },
  {
   "cell_type": "code",
   "execution_count": null,
   "metadata": {},
   "outputs": [],
   "source": [
    "veg_shad_mask8 = veg_shad_mask.astype('uint8')"
   ]
  },
  {
   "cell_type": "code",
   "execution_count": null,
   "metadata": {},
   "outputs": [],
   "source": [
    "from skimage.morphology import opening, square, closing\n",
    "from skimage.color import rgb2gray\n",
    "\n",
    "grayscale = rgb2gray(veg_shad_mask8)\n",
    "\n",
    "#opened = opening(grayscale, square(3))\n",
    "closed = closing(grayscale, square(3))"
   ]
  },
  {
   "cell_type": "code",
   "execution_count": null,
   "metadata": {},
   "outputs": [],
   "source": [
    "from skimage.segmentation import mark_boundaries, felzenszwalb\n",
    "from skimage.measure import label, regionprops_table\n",
    "\n",
    "result = felzenszwalb(closed, scale=400, sigma=0.95, min_size=3)"
   ]
  },
  {
   "cell_type": "code",
   "execution_count": null,
   "metadata": {},
   "outputs": [],
   "source": [
    "# clear borders?"
   ]
  },
  {
   "cell_type": "code",
   "execution_count": null,
   "metadata": {},
   "outputs": [],
   "source": [
    "fig, ax = plt.subplots(2, sharex=True, sharey=True, figsize=(20, 20))\n",
    "ax[0].imshow(veg_shad_mask8)\n",
    "ax[0].set_title('Pre-filter')\n",
    "ax[1].imshow(mark_boundaries(closed,result))\n",
    "ax[1].set_title('Post-filter')\n",
    "fig.tight_layout()"
   ]
  },
  {
   "cell_type": "code",
   "execution_count": null,
   "metadata": {},
   "outputs": [],
   "source": [
    "label_image = label(result)\n",
    "props = regionprops_table(result,intensity_image=veg_shad_mask8, \n",
    "                          properties=('label','area','area_bbox','area_convex','intensity_mean','coords'))\n",
    "\n",
    "pd.DataFrame(props).head(10)"
   ]
  },
  {
   "cell_type": "code",
   "execution_count": null,
   "metadata": {},
   "outputs": [],
   "source": [
    "small_rocks = ((props['area'] < 600) &\n",
    "                    (props['intensity_mean-2'] > 85) & #85\n",
    "                    ((props['area'] / props['area_bbox']) > 0.27)) #.27\n",
    "\n",
    "f'Found {np.count_nonzero(small_rocks == True)} rocks out of {len(small_rocks)} regions'"
   ]
  },
  {
   "cell_type": "code",
   "execution_count": null,
   "metadata": {},
   "outputs": [],
   "source": [
    "#small_rocks and props['coords'] are the same length. Can I ZIP interate this?\n",
    "\n",
    "rocks_classified = np.empty_like(label_image)\n",
    "\n",
    "for i in range(len(small_rocks)):\n",
    "    if small_rocks[i] == True:\n",
    "        #print(i, props['coords'])\n",
    "        for l in range(len(props['coords'][i])):\n",
    "            x,y = props['coords'][i][l]\n",
    "            rocks_classified[x,y] = 1"
   ]
  },
  {
   "cell_type": "code",
   "execution_count": null,
   "metadata": {},
   "outputs": [],
   "source": [
    "plt.imshow(mark_boundaries(veg_shad_mask8,rocks_classified))\n"
   ]
  },
  {
   "cell_type": "code",
   "execution_count": null,
   "metadata": {},
   "outputs": [],
   "source": [
    "r_0 = np.empty_like(rgb)\n",
    "\n",
    "for bands in range(rgb.shape[2]):\n",
    "    r_0[:,:,bands] = np.where(rocks_classified == 1, 0, veg_shad_mask8[:,:,bands])"
   ]
  },
  {
   "cell_type": "code",
   "execution_count": null,
   "metadata": {},
   "outputs": [],
   "source": [
    "fig, ax = plt.subplots(2, sharex=True, sharey=True, figsize=(20, 20))\n",
    "ax[0].imshow(veg_shad_mask8)\n",
    "ax[0].set_title('Pre-filter')\n",
    "ax[1].imshow(r_0)\n",
    "ax[1].set_title('Post-filter')\n",
    "fig.tight_layout()"
   ]
  },
  {
   "cell_type": "code",
   "execution_count": null,
   "metadata": {},
   "outputs": [],
   "source": [
    "r_0_8 = r_0.astype('uint8')"
   ]
  },
  {
   "cell_type": "code",
   "execution_count": null,
   "metadata": {},
   "outputs": [],
   "source": [
    "grayscale2 = rgb2gray(r_0_8)\n",
    "\n",
    "opened2 = opening(grayscale, square(3))\n",
    "#closed2 = closing(grayscale2, square(3))"
   ]
  },
  {
   "cell_type": "code",
   "execution_count": null,
   "metadata": {},
   "outputs": [],
   "source": [
    "\n",
    "#result2 = felzenszwalb(closed2, scale=150, sigma=0.40, min_size=300)\n",
    "result2 = felzenszwalb(opened2, scale=250, sigma=0.27, min_size=100) #scale 250, sigma=0.27, min_size=100"
   ]
  },
  {
   "cell_type": "code",
   "execution_count": null,
   "metadata": {},
   "outputs": [],
   "source": [
    "fig, ax = plt.subplots(2, sharex=True, sharey=True, figsize=(20, 20))\n",
    "ax[0].imshow(r_0)\n",
    "ax[0].set_title('Pre-filter')\n",
    "ax[1].imshow(mark_boundaries(r_0_8,result2))\n",
    "ax[1].set_title('Post-filter')\n",
    "fig.tight_layout()"
   ]
  },
  {
   "cell_type": "code",
   "execution_count": null,
   "metadata": {},
   "outputs": [],
   "source": [
    "#label_image2 = label(result2)\n",
    "props2 = regionprops_table(result2,intensity_image=opened2, \n",
    "                          properties=('label','area','intensity_min','intensity_mean','intensity_max','coords'))\n",
    "\n",
    "pd.DataFrame(props2).head(10)"
   ]
  },
  {
   "cell_type": "code",
   "execution_count": null,
   "metadata": {},
   "outputs": [],
   "source": [
    "from skimage.filters.rank import entropy\n",
    "from skimage.morphology import disk\n",
    "\n",
    "ent_img = entropy(grayscale2, disk(3))"
   ]
  },
  {
   "cell_type": "code",
   "execution_count": null,
   "metadata": {},
   "outputs": [],
   "source": [
    "props3 = regionprops_table(result2,intensity_image=ent_img,\n",
    "                            properties=('label','area','intensity_mean','coords'))"
   ]
  },
  {
   "cell_type": "code",
   "execution_count": null,
   "metadata": {},
   "outputs": [],
   "source": [
    "pd.DataFrame(props3)"
   ]
  },
  {
   "cell_type": "code",
   "execution_count": null,
   "metadata": {},
   "outputs": [],
   "source": [
    "\n",
    "\n",
    "large_rocks = props3['intensity_mean'] > 4.05\n",
    "\n",
    "f'Found {np.count_nonzero(large_rocks == True)} rocks out of {len(large_rocks)} regions'"
   ]
  },
  {
   "cell_type": "code",
   "execution_count": null,
   "metadata": {},
   "outputs": [],
   "source": [
    "\n",
    "rocks_classified2 = np.zeros_like(result2)\n",
    "\n",
    "for i in range(len(large_rocks)):\n",
    "    if large_rocks[i] == True:\n",
    "        #print(props['label'][i])\n",
    "        for l in range(len(props3['coords'][i])):\n",
    "            x,y = props3['coords'][i][l]\n",
    "            rocks_classified2[x,y] = 1"
   ]
  },
  {
   "cell_type": "code",
   "execution_count": null,
   "metadata": {},
   "outputs": [],
   "source": [
    "plt.imshow(mark_boundaries(r_0_8,rocks_classified2))"
   ]
  },
  {
   "cell_type": "code",
   "execution_count": null,
   "metadata": {},
   "outputs": [],
   "source": [
    "r_large = np.empty_like(rgb)\n",
    "\n",
    "for bands in range(rgb.shape[2]):\n",
    "    r_large[:,:,bands] = np.where(rocks_classified2 == 1, np.nan, r_0_8[:,:,bands])"
   ]
  },
  {
   "cell_type": "code",
   "execution_count": null,
   "metadata": {},
   "outputs": [],
   "source": [
    "#finding threshold for dark / light soil\n",
    "\n",
    "from skimage.filters import threshold_multiotsu\n",
    "\n",
    "grayscale3 = rgb2gray(r_large)\n",
    "\n",
    "threshold = threshold_multiotsu(grayscale3)"
   ]
  },
  {
   "cell_type": "code",
   "execution_count": null,
   "metadata": {},
   "outputs": [],
   "source": [
    "regions = np.digitize(grayscale3, bins=threshold)"
   ]
  },
  {
   "cell_type": "code",
   "execution_count": null,
   "metadata": {},
   "outputs": [],
   "source": [
    "np.unique(regions)"
   ]
  },
  {
   "cell_type": "code",
   "execution_count": null,
   "metadata": {},
   "outputs": [],
   "source": [
    "fig, ax = plt.subplots(2, sharex=True, sharey=True, figsize=(20, 20))\n",
    "ax[0].imshow(r_large)\n",
    "ax[0].set_title('Pre-filter')\n",
    "ax[1].imshow(regions)\n",
    "ax[1].set_title('Post-filter')\n",
    "fig.tight_layout()"
   ]
  },
  {
   "cell_type": "code",
   "execution_count": null,
   "metadata": {},
   "outputs": [],
   "source": []
  },
  {
   "cell_type": "markdown",
   "metadata": {},
   "source": [
    "## Classification\n",
    "\n",
    "look into masked arrays "
   ]
  },
  {
   "cell_type": "code",
   "execution_count": null,
   "metadata": {},
   "outputs": [],
   "source": [
    "classified = np.empty_like(ExG,dtype='uint8')\n",
    "\n",
    "    #threshold shadow ---- 70 was a manually expiremented value - should validate with threshold-otsu or jenks\n",
    "    #threshold vegetation --- the threshold value was first obtained by jenkspy.jenks_breaks(Exg.flatten(),nb_class=2)\n",
    "    \n",
    "classified = np.where(rgb[:,:,2] < 70, 1, classified) #assigning 1 to shadows\n",
    "classified = np.where(ExG>12, 2, classified) #assigning 2 to vegetation\n",
    "classified = np.where(rocks_classified == 1, 3, classified)\n",
    "classified = np.where(rocks_classified2 == 1, 3, classified)\n",
    "classified = np.where(regions == 1, 4, classified) #dark soil\n",
    "classified = np.where(regions == 2, 5, classified) #light soil\n",
    "classified = np.where(classified > 5, 0, classified) #assigning unclassified pixels to 0"
   ]
  },
  {
   "cell_type": "code",
   "execution_count": null,
   "metadata": {},
   "outputs": [],
   "source": [
    "np.unique(classified,return_counts=True)"
   ]
  },
  {
   "cell_type": "code",
   "execution_count": null,
   "metadata": {},
   "outputs": [],
   "source": [
    "from matplotlib.colors import ListedColormap\n",
    "\n",
    "cmap = ListedColormap(['black','black','green','grey','sienna','tan'])"
   ]
  },
  {
   "cell_type": "code",
   "execution_count": null,
   "metadata": {},
   "outputs": [],
   "source": [
    "fig, ax = plt.subplots(2, sharex=True, sharey=True, figsize=(20, 20))\n",
    "ax[0].imshow(rgb)\n",
    "ax[0].set_title('Pre-filter')\n",
    "ax[1].imshow(classified, cmap=cmap)\n",
    "ax[1].set_title('Post-filter')\n",
    "fig.tight_layout()"
   ]
  },
  {
   "cell_type": "code",
   "execution_count": null,
   "metadata": {},
   "outputs": [],
   "source": [
    "fp_shp = r\"E:\\USGS\\Sonoma_fires\\GLA3\\GLA3_2021_ctrs_32610.gpkg\" #point file containing centroids of plots"
   ]
  },
  {
   "cell_type": "code",
   "execution_count": null,
   "metadata": {},
   "outputs": [],
   "source": [
    "gdf = gpd.read_file(fp_shp)\n",
    "\n",
    "#df['buffer'] = df.geometry.buffer(0.03) #buffer for masking plot markers\n",
    "gdf['plots'] = gdf.geometry.buffer(0.48) #field plot size for training and validating\n",
    "#df['sent2_plots'] = df.geometry.buffer(10, cap_style=3) #10meter plots for scaling up to sentinel2, cap_style=3 creates a square buffer\n",
    "\n",
    "#mask = df['buffer']"
   ]
  },
  {
   "cell_type": "code",
   "execution_count": null,
   "metadata": {},
   "outputs": [],
   "source": [
    "\n",
    "gdf.set_geometry(\"plots\")"
   ]
  },
  {
   "cell_type": "code",
   "execution_count": null,
   "metadata": {},
   "outputs": [],
   "source": [
    "shape = gdf.plots[2:3]"
   ]
  },
  {
   "cell_type": "markdown",
   "metadata": {},
   "source": [
    "### need to save the classifed to memory with rasterio header then clip fieldplot "
   ]
  },
  {
   "cell_type": "code",
   "execution_count": null,
   "metadata": {},
   "outputs": [],
   "source": [
    "from rasterio.plot import show\n",
    "\n",
    "with rio.open(fp_uas) as src:\n",
    "    out_image, out_transform = rio.mask.mask(src, shape, crop=True)\n",
    "    show(out_image)"
   ]
  },
  {
   "cell_type": "code",
   "execution_count": null,
   "metadata": {},
   "outputs": [],
   "source": [
    "classified = classified.reshape(1,classified.shape[0],classified.shape[1])"
   ]
  },
  {
   "cell_type": "code",
   "execution_count": null,
   "metadata": {},
   "outputs": [],
   "source": [
    "#changing the count to 1 \n",
    "\n",
    "profile.update(\n",
    "        dtype=rio.uint8,\n",
    "        count=1,\n",
    "        compress='lzw')"
   ]
  },
  {
   "cell_type": "code",
   "execution_count": null,
   "metadata": {},
   "outputs": [],
   "source": [
    "#### for writing out classified file - skip this for the subsample test\n",
    "\n",
    "outfile = fp_uas.replace('.tif','_classified.tif')\n",
    "\n",
    "with rio.open(outfile, \"w\", **profile) as dest:\n",
    "    dest.write(classified)"
   ]
  },
  {
   "cell_type": "code",
   "execution_count": null,
   "metadata": {},
   "outputs": [],
   "source": [
    "from rasterio import MemoryFile\n",
    "\n",
    "with MemoryFile() as memfile:\n",
    "    with memfile.open(**profile) as dataset:\n",
    "        dataset.write(classified)\n",
    " \n",
    "        #print(dataset.profile)\n",
    "        out_image2, out_transform2 = rio.mask.mask(dataset, shape, crop=True)\n",
    "        out_meta = dataset.meta.copy()\n",
    "\n",
    "    out_meta.update({\n",
    "    \"driver\": \"GTiff\",\n",
    "    \"height\": out_image2.shape[1],\n",
    "    \"width\": out_image2.shape[2],\n",
    "    \"transform\": out_transform2\n",
    "    })"
   ]
  },
  {
   "cell_type": "code",
   "execution_count": null,
   "metadata": {},
   "outputs": [],
   "source": [
    "show(out_image2,cmap=cmap)"
   ]
  },
  {
   "cell_type": "code",
   "execution_count": null,
   "metadata": {},
   "outputs": [],
   "source": []
  }
 ],
 "metadata": {
  "kernelspec": {
   "display_name": "Python 3.8.13 ('g38')",
   "language": "python",
   "name": "python3"
  },
  "language_info": {
   "codemirror_mode": {
    "name": "ipython",
    "version": 3
   },
   "file_extension": ".py",
   "mimetype": "text/x-python",
   "name": "python",
   "nbconvert_exporter": "python",
   "pygments_lexer": "ipython3",
   "version": "3.8.13"
  },
  "orig_nbformat": 4,
  "vscode": {
   "interpreter": {
    "hash": "eed5200c3b2e178a7f65e1878ac46ed34011c51f6fde7c3185243358c10a19b2"
   }
  }
 },
 "nbformat": 4,
 "nbformat_minor": 2
}
